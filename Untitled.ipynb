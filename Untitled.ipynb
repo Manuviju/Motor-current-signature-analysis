{
 "cells": [
  {
   "cell_type": "markdown",
   "id": "88b328df",
   "metadata": {},
   "source": [
    "## Motor current signature analysis and model-based VI analysis to detect anomalies\n",
    "### Steps\n",
    "- First we will extract the data from the given text files\n",
    "- The data is in text format so will convert it into numericals \n",
    "- We will create a Pandas Dataframe to analyze data\n",
    "- We will visualize data to check the distribution of the values\n",
    "- We will apply K-means algorithm to find the cluster label for our data set\n",
    "- We will handle the imbalance category of the data\n",
    "- Will do train test split and apply various ML algoritm for prediction\n",
    "- Will check the accuracy and prediction through f1-score(Classification reports)\n",
    "- Will draw confusion matrix \n"
   ]
  },
  {
   "cell_type": "markdown",
   "id": "4220be69",
   "metadata": {},
   "source": [
    "###  Importing required libraries"
   ]
  },
  {
   "cell_type": "code",
   "execution_count": 105,
   "id": "73f14a51",
   "metadata": {},
   "outputs": [],
   "source": [
    "import pandas as pd\n",
    "import numpy as np\n",
    "import matplotlib.pyplot as plt\n",
    "import seaborn as sns\n",
    "import re"
   ]
  },
  {
   "cell_type": "markdown",
   "id": "33b811f9",
   "metadata": {},
   "source": [
    "#### Creating a function to extract data and to convert it into numerical form"
   ]
  },
  {
   "cell_type": "code",
   "execution_count": 92,
   "id": "38aa850f",
   "metadata": {},
   "outputs": [],
   "source": [
    "def get_list(text_file):\n",
    "    with open(text_file, 'r') as f:\n",
    "        List = []\n",
    "        for i in f:\n",
    "            List.append(i)\n",
    "        string = List[0]\n",
    "        numbers = re.findall('\\d+', string)\n",
    "        num_list = list(map(int, numbers))\n",
    "    return num_list"
   ]
  },
  {
   "cell_type": "code",
   "execution_count": 97,
   "id": "989f2aff",
   "metadata": {},
   "outputs": [],
   "source": [
    "#  Getting data from text and saving it on respective lists\n",
    "L1 = get_list(\"data0 (1).txt\")\n",
    "L2 = get_list(\"data109.txt\")\n",
    "L3 = get_list(\"data112.txt\")\n",
    "L4 = get_list(\"data88.txt\")\n",
    "L5 = get_list(\"data89.txt\")\n",
    "L6 = get_list(\"data9.txt\")"
   ]
  },
  {
   "cell_type": "code",
   "execution_count": 99,
   "id": "7226d117",
   "metadata": {},
   "outputs": [
    {
     "name": "stdout",
     "output_type": "stream",
     "text": [
      "10000 10000 10000 10000 10000 10000\n"
     ]
    }
   ],
   "source": [
    "print(len(L1), len(L2), len(L3),len(L4),len(L5),len(L6))"
   ]
  },
  {
   "cell_type": "code",
   "execution_count": 100,
   "id": "b5b06a0a",
   "metadata": {},
   "outputs": [],
   "source": [
    "df = pd.DataFrame(list(zip(L1, L2, L3, L4, L5, L6)), columns = [\"current_sig_1\", \"current_sig_2\", \"current_sig_3\",\n",
    "                                                               \"current_sig_4\", \"current_sig_5\", \"current_sig_6\"])"
   ]
  },
  {
   "cell_type": "code",
   "execution_count": 101,
   "id": "772af73f",
   "metadata": {},
   "outputs": [
    {
     "data": {
      "text/html": [
       "<div>\n",
       "<style scoped>\n",
       "    .dataframe tbody tr th:only-of-type {\n",
       "        vertical-align: middle;\n",
       "    }\n",
       "\n",
       "    .dataframe tbody tr th {\n",
       "        vertical-align: top;\n",
       "    }\n",
       "\n",
       "    .dataframe thead th {\n",
       "        text-align: right;\n",
       "    }\n",
       "</style>\n",
       "<table border=\"1\" class=\"dataframe\">\n",
       "  <thead>\n",
       "    <tr style=\"text-align: right;\">\n",
       "      <th></th>\n",
       "      <th>current_sig_1</th>\n",
       "      <th>current_sig_2</th>\n",
       "      <th>current_sig_3</th>\n",
       "      <th>current_sig_4</th>\n",
       "      <th>current_sig_5</th>\n",
       "      <th>current_sig_6</th>\n",
       "    </tr>\n",
       "  </thead>\n",
       "  <tbody>\n",
       "    <tr>\n",
       "      <th>0</th>\n",
       "      <td>0</td>\n",
       "      <td>0</td>\n",
       "      <td>120</td>\n",
       "      <td>0</td>\n",
       "      <td>0</td>\n",
       "      <td>0</td>\n",
       "    </tr>\n",
       "    <tr>\n",
       "      <th>1</th>\n",
       "      <td>0</td>\n",
       "      <td>0</td>\n",
       "      <td>0</td>\n",
       "      <td>0</td>\n",
       "      <td>0</td>\n",
       "      <td>128</td>\n",
       "    </tr>\n",
       "    <tr>\n",
       "      <th>2</th>\n",
       "      <td>0</td>\n",
       "      <td>0</td>\n",
       "      <td>0</td>\n",
       "      <td>0</td>\n",
       "      <td>0</td>\n",
       "      <td>248</td>\n",
       "    </tr>\n",
       "    <tr>\n",
       "      <th>3</th>\n",
       "      <td>0</td>\n",
       "      <td>0</td>\n",
       "      <td>120</td>\n",
       "      <td>0</td>\n",
       "      <td>0</td>\n",
       "      <td>0</td>\n",
       "    </tr>\n",
       "    <tr>\n",
       "      <th>4</th>\n",
       "      <td>0</td>\n",
       "      <td>128</td>\n",
       "      <td>0</td>\n",
       "      <td>0</td>\n",
       "      <td>0</td>\n",
       "      <td>0</td>\n",
       "    </tr>\n",
       "  </tbody>\n",
       "</table>\n",
       "</div>"
      ],
      "text/plain": [
       "   current_sig_1  current_sig_2  current_sig_3  current_sig_4  current_sig_5  \\\n",
       "0              0              0            120              0              0   \n",
       "1              0              0              0              0              0   \n",
       "2              0              0              0              0              0   \n",
       "3              0              0            120              0              0   \n",
       "4              0            128              0              0              0   \n",
       "\n",
       "   current_sig_6  \n",
       "0              0  \n",
       "1            128  \n",
       "2            248  \n",
       "3              0  \n",
       "4              0  "
      ]
     },
     "execution_count": 101,
     "metadata": {},
     "output_type": "execute_result"
    }
   ],
   "source": [
    "df.head()"
   ]
  },
  {
   "cell_type": "code",
   "execution_count": 85,
   "id": "ccfe27fa",
   "metadata": {},
   "outputs": [
    {
     "data": {
      "text/plain": [
       "int"
      ]
     },
     "execution_count": 85,
     "metadata": {},
     "output_type": "execute_result"
    }
   ],
   "source": [
    "type(A[1])"
   ]
  },
  {
   "cell_type": "code",
   "execution_count": 104,
   "id": "dc57797b",
   "metadata": {},
   "outputs": [
    {
     "data": {
      "text/plain": [
       "(10000, 6)"
      ]
     },
     "execution_count": 104,
     "metadata": {},
     "output_type": "execute_result"
    }
   ],
   "source": [
    "df.shape"
   ]
  },
  {
   "cell_type": "code",
   "execution_count": 103,
   "id": "fd8a071e",
   "metadata": {},
   "outputs": [
    {
     "name": "stdout",
     "output_type": "stream",
     "text": [
      "0      6119\n",
      "120    1665\n",
      "128    1256\n",
      "248     960\n",
      "Name: current_sig_1, dtype: int64\n",
      "0      8962\n",
      "128     406\n",
      "248     351\n",
      "120     281\n",
      "Name: current_sig_2, dtype: int64\n",
      "0      9047\n",
      "128     397\n",
      "120     303\n",
      "248     253\n",
      "Name: current_sig_3, dtype: int64\n",
      "0      9027\n",
      "128     401\n",
      "120     324\n",
      "248     248\n",
      "Name: current_sig_4, dtype: int64\n",
      "0      9074\n",
      "128     416\n",
      "120     301\n",
      "248     209\n",
      "Name: current_sig_5, dtype: int64\n",
      "0      5982\n",
      "120    2067\n",
      "248    1196\n",
      "128     755\n",
      "Name: current_sig_6, dtype: int64\n"
     ]
    }
   ],
   "source": [
    "for column in df:\n",
    "    print(df[column].value_counts())"
   ]
  },
  {
   "cell_type": "markdown",
   "id": "34eded55",
   "metadata": {},
   "source": [
    "### Ploting graph for the current value frequency "
   ]
  },
  {
   "cell_type": "code",
   "execution_count": 132,
   "id": "050338ab",
   "metadata": {},
   "outputs": [
    {
     "data": {
      "image/png": "[encoded data removed]",
      "text/plain": [
       "<Figure size 1500x2000 with 6 Axes>"
      ]
     },
     "metadata": {},
     "output_type": "display_data"
    }
   ],
   "source": [
    "feature = [col for col in df]\n",
    "plt.figure(figsize=(15, 20))\n",
    "for i, col in enumerate(feature):\n",
    "    plt.subplot(6, 3, i+1)\n",
    "    sns.histplot(x=df[col], color='blue', kde = True)"
   ]
  },
  {
   "cell_type": "markdown",
   "id": "d35718fd",
   "metadata": {},
   "source": [
    "### From above we can have the insight on given data set\n",
    "- The first and last columns are showing considerable spikes for current signature \"120\", \"128\" and \"248\" \n",
    "- This we can assume as an anomoly in current signature\n",
    "\n",
    "#### As we are dealing here with unlabled data set therefore the unsupervised machine learning technique could be helpful to segregate the data and to cluster them under 0, 1 Labels\n",
    "- We will use K-means \n",
    "- Will analyze which algorithm classify these data more precisely."
   ]
  },
  {
   "cell_type": "markdown",
   "id": "582d2469",
   "metadata": {},
   "source": [
    "# K-means \n",
    " K-means is vastly used for clustering in many data science applications, it is especially useful if we need to quickly discover insights from unlabeled data. Here we will use k-Means for current signature data segmentation."
   ]
  },
  {
   "cell_type": "markdown",
   "id": "2443be50",
   "metadata": {},
   "source": [
    "The k-means algorithm isn't directly applicable to categorical variables because the Euclidean distance function isn't really meaningful for discrete variables. So, let's  normalize the dataset. But why do we need normalization in the first place? Normalization is a statistical method that helps mathematical-based algorithms to interpret features with different magnitudes and distributions equally. We use StandardScaler() to normalize our dataset."
   ]
  },
  {
   "cell_type": "code",
   "execution_count": 178,
   "id": "18579fa7",
   "metadata": {},
   "outputs": [
    {
     "data": {
      "text/plain": [
       "array([[-0.72725077, -0.31910308,  2.13544906, ..., -0.30096598,\n",
       "        -0.74263512,  0.31945236],\n",
       "       [-0.72725077, -0.31910308, -0.30487822, ..., -0.30096598,\n",
       "         0.73965202,  0.31945236],\n",
       "       [-0.72725077, -0.31910308, -0.30487822, ..., -0.30096598,\n",
       "         2.12929622,  0.31945236],\n",
       "       ...,\n",
       "       [ 0.82772142, -0.31910308, -0.30487822, ...,  2.25681859,\n",
       "         0.73965202, -3.13035718],\n",
       "       [-0.72725077, -0.31910308, -0.30487822, ..., -0.30096598,\n",
       "        -0.74263512,  0.31945236],\n",
       "       [-0.72725077, -0.31910308, -0.30487822, ..., -0.30096598,\n",
       "         2.12929622,  0.31945236]])"
      ]
     },
     "execution_count": 178,
     "metadata": {},
     "output_type": "execute_result"
    }
   ],
   "source": [
    "import numpy as np\n",
    "from sklearn.preprocessing import StandardScaler\n",
    "X = df.values[:,0:]\n",
    "X = np.nan_to_num(X)\n",
    "Clus_dataSet = StandardScaler().fit_transform(X)\n",
    "Clus_dataSet"
   ]
  },
  {
   "cell_type": "code",
   "execution_count": 134,
   "id": "854b3271",
   "metadata": {},
   "outputs": [
    {
     "name": "stdout",
     "output_type": "stream",
     "text": [
      "[0 1 1 ... 1 0 1]\n"
     ]
    }
   ],
   "source": [
    "from sklearn.cluster import KMeans \n",
    "\n",
    "clusterNum = 2\n",
    "k_means = KMeans(init = \"k-means++\", n_clusters = clusterNum, n_init = 12)\n",
    "k_means.fit(X)\n",
    "labels = k_means.labels_\n",
    "print(labels)"
   ]
  },
  {
   "cell_type": "code",
   "execution_count": 137,
   "id": "efaef807",
   "metadata": {},
   "outputs": [],
   "source": [
    "y_predicted = k_means.fit_predict(Clus_dataSet)"
   ]
  },
  {
   "cell_type": "code",
   "execution_count": 138,
   "id": "a364171c",
   "metadata": {},
   "outputs": [
    {
     "data": {
      "text/plain": [
       "array([1, 1, 1, ..., 0, 1, 1])"
      ]
     },
     "execution_count": 138,
     "metadata": {},
     "output_type": "execute_result"
    }
   ],
   "source": [
    "y_predicted"
   ]
  },
  {
   "cell_type": "code",
   "execution_count": 139,
   "id": "a5656597",
   "metadata": {},
   "outputs": [
    {
     "data": {
      "text/html": [
       "<div>\n",
       "<style scoped>\n",
       "    .dataframe tbody tr th:only-of-type {\n",
       "        vertical-align: middle;\n",
       "    }\n",
       "\n",
       "    .dataframe tbody tr th {\n",
       "        vertical-align: top;\n",
       "    }\n",
       "\n",
       "    .dataframe thead th {\n",
       "        text-align: right;\n",
       "    }\n",
       "</style>\n",
       "<table border=\"1\" class=\"dataframe\">\n",
       "  <thead>\n",
       "    <tr style=\"text-align: right;\">\n",
       "      <th></th>\n",
       "      <th>current_sig_1</th>\n",
       "      <th>current_sig_2</th>\n",
       "      <th>current_sig_3</th>\n",
       "      <th>current_sig_4</th>\n",
       "      <th>current_sig_5</th>\n",
       "      <th>current_sig_6</th>\n",
       "      <th>cluster</th>\n",
       "    </tr>\n",
       "  </thead>\n",
       "  <tbody>\n",
       "    <tr>\n",
       "      <th>0</th>\n",
       "      <td>0</td>\n",
       "      <td>0</td>\n",
       "      <td>120</td>\n",
       "      <td>0</td>\n",
       "      <td>0</td>\n",
       "      <td>0</td>\n",
       "      <td>1</td>\n",
       "    </tr>\n",
       "    <tr>\n",
       "      <th>1</th>\n",
       "      <td>0</td>\n",
       "      <td>0</td>\n",
       "      <td>0</td>\n",
       "      <td>0</td>\n",
       "      <td>0</td>\n",
       "      <td>128</td>\n",
       "      <td>1</td>\n",
       "    </tr>\n",
       "    <tr>\n",
       "      <th>2</th>\n",
       "      <td>0</td>\n",
       "      <td>0</td>\n",
       "      <td>0</td>\n",
       "      <td>0</td>\n",
       "      <td>0</td>\n",
       "      <td>248</td>\n",
       "      <td>1</td>\n",
       "    </tr>\n",
       "    <tr>\n",
       "      <th>3</th>\n",
       "      <td>0</td>\n",
       "      <td>0</td>\n",
       "      <td>120</td>\n",
       "      <td>0</td>\n",
       "      <td>0</td>\n",
       "      <td>0</td>\n",
       "      <td>1</td>\n",
       "    </tr>\n",
       "    <tr>\n",
       "      <th>4</th>\n",
       "      <td>0</td>\n",
       "      <td>128</td>\n",
       "      <td>0</td>\n",
       "      <td>0</td>\n",
       "      <td>0</td>\n",
       "      <td>0</td>\n",
       "      <td>1</td>\n",
       "    </tr>\n",
       "  </tbody>\n",
       "</table>\n",
       "</div>"
      ],
      "text/plain": [
       "   current_sig_1  current_sig_2  current_sig_3  current_sig_4  current_sig_5  \\\n",
       "0              0              0            120              0              0   \n",
       "1              0              0              0              0              0   \n",
       "2              0              0              0              0              0   \n",
       "3              0              0            120              0              0   \n",
       "4              0            128              0              0              0   \n",
       "\n",
       "   current_sig_6  cluster  \n",
       "0              0        1  \n",
       "1            128        1  \n",
       "2            248        1  \n",
       "3              0        1  \n",
       "4              0        1  "
      ]
     },
     "execution_count": 139,
     "metadata": {},
     "output_type": "execute_result"
    }
   ],
   "source": [
    "df['cluster'] = y_predicted\n",
    "df.head()"
   ]
  },
  {
   "cell_type": "code",
   "execution_count": 140,
   "id": "dd3e5b0e",
   "metadata": {},
   "outputs": [
    {
     "data": {
      "text/plain": [
       "1    9074\n",
       "0     926\n",
       "Name: cluster, dtype: int64"
      ]
     },
     "execution_count": 140,
     "metadata": {},
     "output_type": "execute_result"
    }
   ],
   "source": [
    "df.cluster.value_counts()"
   ]
  },
  {
   "cell_type": "code",
   "execution_count": 188,
   "id": "c60c4c0c",
   "metadata": {},
   "outputs": [
    {
     "name": "stdout",
     "output_type": "stream",
     "text": [
      "Collecting imblearn\n",
      "  Using cached imblearn-0.0-py2.py3-none-any.whl (1.9 kB)\n",
      "Collecting imbalanced-learn\n",
      "  Downloading imbalanced_learn-0.10.1-py3-none-any.whl (226 kB)\n",
      "     -------------------------------------- 226.0/226.0 kB 1.1 MB/s eta 0:00:00\n",
      "Requirement already satisfied: scikit-learn>=1.0.2 in c:\\users\\manu_workbook\\miniconda3\\lib\\site-packages (from imbalanced-learn->imblearn) (1.1.3)\n",
      "Requirement already satisfied: threadpoolctl>=2.0.0 in c:\\users\\manu_workbook\\miniconda3\\lib\\site-packages (from imbalanced-learn->imblearn) (3.1.0)\n",
      "Requirement already satisfied: numpy>=1.17.3 in c:\\users\\manu_workbook\\miniconda3\\lib\\site-packages (from imbalanced-learn->imblearn) (1.23.4)\n",
      "Requirement already satisfied: scipy>=1.3.2 in c:\\users\\manu_workbook\\miniconda3\\lib\\site-packages (from imbalanced-learn->imblearn) (1.9.3)\n",
      "Requirement already satisfied: joblib>=1.1.1 in c:\\users\\manu_workbook\\miniconda3\\lib\\site-packages (from imbalanced-learn->imblearn) (1.2.0)\n",
      "Installing collected packages: imbalanced-learn, imblearn\n",
      "Successfully installed imbalanced-learn-0.10.1 imblearn-0.0\n",
      "Note: you may need to restart the kernel to use updated packages.\n"
     ]
    }
   ],
   "source": [
    "pip install imblearn"
   ]
  },
  {
   "cell_type": "markdown",
   "id": "5dd1288b",
   "metadata": {},
   "source": [
    "### As we can see that there is a considerable imbalance in the data set considering 'cluster' label, we need to handle this imbalanced data set in order to yeild best performace from our model. "
   ]
  },
  {
   "cell_type": "code",
   "execution_count": 189,
   "id": "93d666ad",
   "metadata": {},
   "outputs": [],
   "source": [
    "# Handling imbalanced data set through SMOTek\n",
    "from imblearn.combine import SMOTETomek"
   ]
  },
  {
   "cell_type": "code",
   "execution_count": 191,
   "id": "ff8c932d",
   "metadata": {
    "collapsed": true
   },
   "outputs": [
    {
     "name": "stderr",
     "output_type": "stream",
     "text": [
      "C:\\Users\\Manu_workbook\\miniconda3\\lib\\site-packages\\imblearn\\over_sampling\\_smote\\base.py:336: FutureWarning: The parameter `n_jobs` has been deprecated in 0.10 and will be removed in 0.12. You can pass an nearest neighbors estimator where `n_jobs` is already set instead.\n",
      "  warnings.warn(\n"
     ]
    }
   ],
   "source": [
    "smt = SMOTETomek(random_state=42,sampling_strategy='minority',n_jobs=-1)\n",
    "X_res, y_res = smt.fit_resample(df.iloc[:,:-1], df.cluster)"
   ]
  },
  {
   "cell_type": "code",
   "execution_count": 192,
   "id": "c942c014",
   "metadata": {},
   "outputs": [
    {
     "data": {
      "text/plain": [
       "(18148, 6)"
      ]
     },
     "execution_count": 192,
     "metadata": {},
     "output_type": "execute_result"
    }
   ],
   "source": [
    "X_res.shape"
   ]
  },
  {
   "cell_type": "code",
   "execution_count": 193,
   "id": "ff1ad316",
   "metadata": {},
   "outputs": [
    {
     "data": {
      "text/plain": [
       "(18148,)"
      ]
     },
     "execution_count": 193,
     "metadata": {},
     "output_type": "execute_result"
    }
   ],
   "source": [
    "y_res.shape"
   ]
  },
  {
   "cell_type": "code",
   "execution_count": 194,
   "id": "2925df67",
   "metadata": {},
   "outputs": [
    {
     "data": {
      "text/plain": [
       "1    9074\n",
       "0    9074\n",
       "Name: cluster, dtype: int64"
      ]
     },
     "execution_count": 194,
     "metadata": {},
     "output_type": "execute_result"
    }
   ],
   "source": [
    "y_res.value_counts()"
   ]
  },
  {
   "cell_type": "markdown",
   "id": "540d210f",
   "metadata": {},
   "source": [
    "### Preforming Train test split"
   ]
  },
  {
   "cell_type": "code",
   "execution_count": 196,
   "id": "e425e136",
   "metadata": {},
   "outputs": [],
   "source": [
    "from sklearn.model_selection import train_test_split\n",
    "\n",
    "X_train, X_test, y_train, y_test = train_test_split(X_res, y_res, test_size=.2, random_state=2023, stratify=y_res)"
   ]
  },
  {
   "cell_type": "code",
   "execution_count": 197,
   "id": "a903eb6f",
   "metadata": {},
   "outputs": [],
   "source": [
    "from sklearn.preprocessing import StandardScaler\n",
    "\n",
    "scaler = StandardScaler()\n",
    "X_train_scaled = scaler.fit_transform(X_train)\n",
    "X_test_scaled = scaler.transform(X_test)"
   ]
  },
  {
   "cell_type": "code",
   "execution_count": 204,
   "id": "c7801abf",
   "metadata": {},
   "outputs": [
    {
     "data": {
      "text/plain": [
       "array([[-0.7669455 , -0.32923604, -0.31609945, -0.25023559, -0.90272418,\n",
       "         2.06085847],\n",
       "       [-0.7669455 , -0.32923604,  4.60784046, -0.25023559, -0.90272418,\n",
       "         0.59796499]])"
      ]
     },
     "execution_count": 204,
     "metadata": {},
     "output_type": "execute_result"
    }
   ],
   "source": [
    "X_train_scaled[:2]"
   ]
  },
  {
   "cell_type": "code",
   "execution_count": 199,
   "id": "ff3155a2",
   "metadata": {},
   "outputs": [
    {
     "name": "stdout",
     "output_type": "stream",
     "text": [
      "              precision    recall  f1-score   support\n",
      "\n",
      "           0       1.00      1.00      1.00      1815\n",
      "           1       1.00      1.00      1.00      1815\n",
      "\n",
      "    accuracy                           1.00      3630\n",
      "   macro avg       1.00      1.00      1.00      3630\n",
      "weighted avg       1.00      1.00      1.00      3630\n",
      "\n"
     ]
    }
   ],
   "source": [
    "from sklearn.metrics import classification_report\n",
    "from  sklearn.neighbors import KNeighborsClassifier\n",
    "\n",
    "#1. creating a classifier object\n",
    "clf = KNeighborsClassifier()\n",
    "\n",
    "#2. fit with X_train and y_train\n",
    "clf.fit(X_train_scaled, y_train)\n",
    "\n",
    "\n",
    "#3. getting the predictions for X_test and store it in y_pred\n",
    "y_pred = clf.predict(X_test_scaled)\n",
    "\n",
    "\n",
    "#4. printing the classfication report\n",
    "print(classification_report(y_test, y_pred))"
   ]
  },
  {
   "cell_type": "code",
   "execution_count": 200,
   "id": "e9b7a620",
   "metadata": {},
   "outputs": [
    {
     "name": "stdout",
     "output_type": "stream",
     "text": [
      "              precision    recall  f1-score   support\n",
      "\n",
      "           0       1.00      1.00      1.00      1815\n",
      "           1       1.00      1.00      1.00      1815\n",
      "\n",
      "    accuracy                           1.00      3630\n",
      "   macro avg       1.00      1.00      1.00      3630\n",
      "weighted avg       1.00      1.00      1.00      3630\n",
      "\n"
     ]
    }
   ],
   "source": [
    "from  sklearn.ensemble import RandomForestClassifier\n",
    "\n",
    "#1. creating a classifier object\n",
    "clf = RandomForestClassifier()\n",
    "\n",
    "#2. fit with X_train and y_train\n",
    "clf.fit(X_train_scaled, y_train)\n",
    "\n",
    "\n",
    "#3. getting the predictions for X_test and store it in y_pred\n",
    "y_pred = clf.predict(X_test_scaled)\n",
    "\n",
    "\n",
    "#4. printing the classfication report\n",
    "print(classification_report(y_test, y_pred))"
   ]
  },
  {
   "cell_type": "code",
   "execution_count": 201,
   "id": "ea546638",
   "metadata": {},
   "outputs": [
    {
     "name": "stdout",
     "output_type": "stream",
     "text": [
      "              precision    recall  f1-score   support\n",
      "\n",
      "           0       1.00      1.00      1.00      1815\n",
      "           1       1.00      1.00      1.00      1815\n",
      "\n",
      "    accuracy                           1.00      3630\n",
      "   macro avg       1.00      1.00      1.00      3630\n",
      "weighted avg       1.00      1.00      1.00      3630\n",
      "\n"
     ]
    }
   ],
   "source": [
    "from  sklearn.tree import DecisionTreeClassifier\n",
    "\n",
    "#1. creating a classifier object\n",
    "clf = DecisionTreeClassifier()\n",
    "\n",
    "#2. fit with X_train and y_train\n",
    "clf.fit(X_train_scaled, y_train)\n",
    "\n",
    "\n",
    "#3. getting the predictions for X_test and store it in y_pred\n",
    "y_pred = clf.predict(X_test_scaled)\n",
    "\n",
    "\n",
    "#4. printing the classfication report\n",
    "print(classification_report(y_test, y_pred))"
   ]
  },
  {
   "cell_type": "markdown",
   "id": "57c569fb",
   "metadata": {},
   "source": [
    "## All Classifier are giving same score for the prediction"
   ]
  },
  {
   "cell_type": "code",
   "execution_count": 203,
   "id": "9ffe5e37",
   "metadata": {},
   "outputs": [
    {
     "data": {
      "text/plain": [
       "Text(33.22222222222222, 0.5, 'Truth')"
      ]
     },
     "execution_count": 203,
     "metadata": {},
     "output_type": "execute_result"
    },
    {
     "data": {
      "image/png": "[encoded data removed]",
      "text/plain": [
       "<Figure size 500x400 with 2 Axes>"
      ]
     },
     "metadata": {},
     "output_type": "display_data"
    }
   ],
   "source": [
    "from sklearn.metrics import confusion_matrix\n",
    "cm = confusion_matrix(y_test, y_pred)\n",
    "cm\n",
    "\n",
    "\n",
    "plt.figure(figsize = (5,4))\n",
    "sns.heatmap(cm, annot=True, fmt='d')\n",
    "plt.xlabel('Prediction')\n",
    "plt.ylabel('Truth')"
   ]
  },
  {
   "cell_type": "markdown",
   "id": "18ef1061",
   "metadata": {},
   "source": [
    "#### Machine Learning is like a trial and error scientific method, where we keep trying all the possible algorithms we have and select the one which gives good results and satisfies the requirements like latency, interpretability, etc."
   ]
  },
  {
   "cell_type": "code",
   "execution_count": null,
   "id": "58834d8d",
   "metadata": {},
   "outputs": [],
   "source": []
  }
 ],
 "metadata": {
  "kernelspec": {
   "display_name": "Python 3 (ipykernel)",
   "language": "python",
   "name": "python3"
  },
  "language_info": {
   "codemirror_mode": {
    "name": "ipython",
    "version": 3
   },
   "file_extension": ".py",
   "mimetype": "text/x-python",
   "name": "python",
   "nbconvert_exporter": "python",
   "pygments_lexer": "ipython3",
   "version": "3.9.13"
  }
 },
 "nbformat": 4,
 "nbformat_minor": 5
}
